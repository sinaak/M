{
 "cells": [
  {
   "cell_type": "code",
   "execution_count": 41,
   "metadata": {},
   "outputs": [],
   "source": [
    "import pickle\n",
    "import numpy as np\n",
    "import pandas as pd\n",
    "import matplotlib.pyplot as plt\n",
    "from sklearn.metrics import classification_report\n",
    "from sklearn.model_selection import train_test_split"
   ]
  },
  {
   "cell_type": "markdown",
   "metadata": {},
   "source": [
    " ### Load x test and y test"
   ]
  },
  {
   "cell_type": "code",
   "execution_count": 18,
   "metadata": {
    "collapsed": true
   },
   "outputs": [],
   "source": [
    "x_data_10 = pd.read_csv('../vectors/all/word2vectop10/x_embeddings_Word2Vec_top10.csv')\n",
    "y_data_10 = pd.read_csv('../vectors/all/word2vectop10/y_data_Word2Vec_top10.csv')"
   ]
  },
  {
   "cell_type": "code",
   "execution_count": 19,
   "metadata": {},
   "outputs": [
    {
     "name": "stdout",
     "output_type": "stream",
     "text": [
      "x_data_10 shape:  (200000, 300)\n",
      "y_data_10 shape:  (200000, 28)\n"
     ]
    }
   ],
   "source": [
    "x_data_10 = x_data_10.as_matrix()\n",
    "y_data_10 = y_data_10.as_matrix()\n",
    "x_data_10 = x_data_10[0:200000]\n",
    "y_data_10 = y_data_10[0:200000]\n",
    "print('x_data_10 shape: ', x_data_10.shape)\n",
    "print('y_data_10 shape: ', y_data_10.shape)\n",
    "y_test_10 = np.delete(y_test_10,22,1)\n",
    "y_train_10 = np.delete(y_train_10,22,1)"
   ]
  },
  {
   "cell_type": "code",
   "execution_count": 22,
   "metadata": {},
   "outputs": [],
   "source": [
    "x_train_10, x_test_10, y_train_10, y_test_10 = train_test_split(x_data_10, y_data_10, test_size=0.33, random_state=4)"
   ]
  },
  {
   "cell_type": "markdown",
   "metadata": {},
   "source": [
    "## Load Models"
   ]
  },
  {
   "cell_type": "code",
   "execution_count": 23,
   "metadata": {},
   "outputs": [
    {
     "name": "stderr",
     "output_type": "stream",
     "text": [
      "/Users/Sina/anaconda/lib/python3.6/site-packages/sklearn/base.py:311: UserWarning: Trying to unpickle estimator DecisionTreeClassifier from version 0.19.0 when using version 0.19.1. This might lead to breaking code or invalid results. Use at your own risk.\n",
      "  UserWarning)\n",
      "/Users/Sina/anaconda/lib/python3.6/site-packages/sklearn/base.py:311: UserWarning: Trying to unpickle estimator LogisticRegression from version 0.19.0 when using version 0.19.1. This might lead to breaking code or invalid results. Use at your own risk.\n",
      "  UserWarning)\n",
      "/Users/Sina/anaconda/lib/python3.6/site-packages/sklearn/base.py:311: UserWarning: Trying to unpickle estimator SVC from version 0.19.0 when using version 0.19.1. This might lead to breaking code or invalid results. Use at your own risk.\n",
      "  UserWarning)\n"
     ]
    }
   ],
   "source": [
    "DecisionTreeClassifier_Word2Vec_10 = pickle.load(open(\"../trained-model/Word2Vec_10/from_google/DecisionTreeClassifier_Word2Vec_10.sav\", 'rb'))\n",
    "LogisticRegression_Word2Vec_BR_10 = pickle.load(open(\"../trained-model/Word2Vec_10/from_google/LogisticRegression_Word2Vec_BR_10.sav\", 'rb'))\n",
    "LogisticRegression_Word2Vec_CC_10 = pickle.load(open(\"../trained-model/Word2Vec_10/from_google/LogisticRegression_Word2Vec_CC_10.sav\", 'rb'))\n",
    "LogisticRegression_Word2Vec_MCC = pickle.load(open(\"../trained-model/Word2Vec_10/from_google/LogisticRegression_Word2Vec_MCC.sav\", 'rb'))\n",
    "SVM_Chain_BR_Word2Vec_10 = pickle.load(open(\"../trained-model/Word2Vec_10/from_google/SVM_Chain_BR_Word2Vec_10.sav\", 'rb'))\n",
    "SVM_Chain_MCC_Word2Vec_10 = pickle.load(open(\"../trained-model/Word2Vec_10/from_google/SVM_Chain_MCC_Word2Vec_10.sav\", 'rb'))"
   ]
  },
  {
   "cell_type": "code",
   "execution_count": 26,
   "metadata": {
    "collapsed": true
   },
   "outputs": [],
   "source": [
    "predict_DecisionTreeClassifier_Word2Vec_10 = DecisionTreeClassifier_Word2Vec_10.predict(x_test_10)\n",
    "predict_LogisticRegression_Word2Vec_BR_10 = LogisticRegression_Word2Vec_BR_10.predict(x_test_10)\n",
    "predict_LogisticRegression_Word2Vec_CC_10 = LogisticRegression_Word2Vec_CC_10.predict(x_test_10)\n",
    "predict_LogisticRegression_Word2Vec_MCC = LogisticRegression_Word2Vec_MCC.predict(x_test_10)\n",
    "predict_SVM_Chain_BR_Word2Vec_10 = SVM_Chain_BR_Word2Vec_10.predict(x_test_10)\n",
    "predict_SVM_Chain_MCC_Word2Vec_10 = SVM_Chain_MCC_Word2Vec_10.predict(x_test_10)"
   ]
  },
  {
   "cell_type": "code",
   "execution_count": 47,
   "metadata": {},
   "outputs": [
    {
     "name": "stdout",
     "output_type": "stream",
     "text": [
      "             precision    recall  f1-score   support\n",
      "\n",
      "          0       0.11      0.63      0.19       707\n",
      "          1       0.07      0.03      0.04       625\n",
      "          2       0.15      0.07      0.09      3079\n",
      "          3       0.36      0.42      0.39     13309\n",
      "          4       0.14      0.20      0.17       456\n",
      "          5       0.13      0.58      0.22       250\n",
      "          6       0.09      0.07      0.08       659\n",
      "          7       0.12      0.23      0.15      1690\n",
      "          8       0.13      0.11      0.12      2280\n",
      "          9       0.49      0.44      0.47     21620\n",
      "         10       0.09      0.12      0.10      1408\n",
      "         11       0.06      0.01      0.02       516\n",
      "         12       0.13      0.24      0.17      1770\n",
      "         13       0.08      0.11      0.09       839\n",
      "         14       0.20      0.20      0.20       729\n",
      "         15       0.52      0.39      0.45     13429\n",
      "         16       0.12      0.10      0.11      3095\n",
      "         17       0.07      0.06      0.07      1036\n",
      "         18       0.11      0.22      0.15      1313\n",
      "         19       0.08      0.10      0.09       926\n",
      "         20       0.13      0.16      0.14      3092\n",
      "         21       0.12      0.06      0.08      1369\n",
      "         22       0.46      0.13      0.20     22301\n",
      "         23       0.25      0.21      0.23      1486\n",
      "         24       0.22      0.79      0.34       216\n",
      "         25       0.09      0.15      0.11       876\n",
      "         26       0.12      0.18      0.14      1401\n",
      "\n",
      "avg / total       0.36      0.28      0.29    100477\n",
      "\n"
     ]
    }
   ],
   "source": [
    "report_DecisionTreeClassifier_Word2Vec_10 = classification_report(y_test_10 ,predict_DecisionTreeClassifier_Word2Vec_10 )\n",
    "\n",
    "print(report_DecisionTreeClassifier_Word2Vec_10)"
   ]
  },
  {
   "cell_type": "code",
   "execution_count": 48,
   "metadata": {},
   "outputs": [
    {
     "name": "stdout",
     "output_type": "stream",
     "text": [
      "             precision    recall  f1-score   support\n",
      "\n",
      "          0       0.38      0.34      0.36       707\n",
      "          1       0.09      0.00      0.00       625\n",
      "          2       0.69      0.14      0.23      3079\n",
      "          3       0.59      0.42      0.49     13309\n",
      "          4       0.53      0.07      0.13       456\n",
      "          5       0.48      0.28      0.35       250\n",
      "          6       0.49      0.14      0.22       659\n",
      "          7       0.44      0.09      0.15      1690\n",
      "          8       0.51      0.06      0.11      2280\n",
      "          9       0.64      0.44      0.52     21620\n",
      "         10       0.32      0.04      0.08      1408\n",
      "         11       0.60      0.01      0.01       516\n",
      "         12       0.33      0.18      0.23      1770\n",
      "         13       0.11      0.02      0.04       839\n",
      "         14       0.59      0.21      0.31       729\n",
      "         15       0.77      0.46      0.58     13429\n",
      "         16       0.38      0.04      0.07      3095\n",
      "         17       0.24      0.02      0.04      1036\n",
      "         18       0.43      0.18      0.26      1313\n",
      "         19       0.35      0.03      0.05       926\n",
      "         20       0.35      0.08      0.13      3092\n",
      "         21       0.86      0.27      0.41      1369\n",
      "         22       0.79      0.16      0.26     22301\n",
      "         23       0.62      0.34      0.44      1486\n",
      "         24       0.74      0.66      0.70       216\n",
      "         25       0.25      0.06      0.09       876\n",
      "         26       0.58      0.26      0.36      1401\n",
      "\n",
      "avg / total       0.63      0.29      0.37    100477\n",
      "\n"
     ]
    }
   ],
   "source": [
    "report_LogisticRegression_Word2Vec_BR_10 = classification_report(y_test_10 ,predict_LogisticRegression_Word2Vec_BR_10 )\n",
    "print(report_LogisticRegression_Word2Vec_BR_10)"
   ]
  },
  {
   "cell_type": "code",
   "execution_count": 49,
   "metadata": {},
   "outputs": [
    {
     "name": "stdout",
     "output_type": "stream",
     "text": [
      "             precision    recall  f1-score   support\n",
      "\n",
      "          0       0.38      0.34      0.36       707\n",
      "          1       0.09      0.00      0.00       625\n",
      "          2       0.69      0.14      0.23      3079\n",
      "          3       0.58      0.45      0.50     13309\n",
      "          4       0.53      0.08      0.14       456\n",
      "          5       0.39      0.33      0.36       250\n",
      "          6       0.49      0.14      0.22       659\n",
      "          7       0.39      0.11      0.17      1690\n",
      "          8       0.49      0.08      0.13      2280\n",
      "          9       0.60      0.59      0.59     21620\n",
      "         10       0.25      0.05      0.09      1408\n",
      "         11       0.33      0.00      0.00       516\n",
      "         12       0.31      0.21      0.25      1770\n",
      "         13       0.13      0.03      0.05       839\n",
      "         14       0.58      0.29      0.39       729\n",
      "         15       0.64      0.70      0.67     13429\n",
      "         16       0.29      0.08      0.13      3095\n",
      "         17       0.27      0.03      0.06      1036\n",
      "         18       0.24      0.29      0.26      1313\n",
      "         19       0.25      0.07      0.11       926\n",
      "         20       0.27      0.10      0.15      3092\n",
      "         21       0.76      0.40      0.52      1369\n",
      "         22       0.68      0.28      0.39     22301\n",
      "         23       0.49      0.44      0.46      1486\n",
      "         24       0.43      0.75      0.55       216\n",
      "         25       0.15      0.09      0.12       876\n",
      "         26       0.17      0.50      0.26      1401\n",
      "\n",
      "avg / total       0.55      0.39      0.43    100477\n",
      "\n"
     ]
    }
   ],
   "source": [
    "report_LogisticRegression_Word2Vec_CC_10 = classification_report(y_test_10 ,predict_LogisticRegression_Word2Vec_CC_10)\n",
    "print(report_LogisticRegression_Word2Vec_CC_10)"
   ]
  },
  {
   "cell_type": "code",
   "execution_count": 50,
   "metadata": {},
   "outputs": [
    {
     "name": "stdout",
     "output_type": "stream",
     "text": [
      "             precision    recall  f1-score   support\n",
      "\n",
      "          0       0.21      0.55      0.30       707\n",
      "          1       0.14      0.00      0.01       625\n",
      "          2       0.62      0.23      0.33      3079\n",
      "          3       0.51      0.60      0.55     13309\n",
      "          4       0.41      0.10      0.16       456\n",
      "          5       0.34      0.43      0.38       250\n",
      "          6       0.48      0.20      0.28       659\n",
      "          7       0.32      0.13      0.19      1690\n",
      "          8       0.46      0.12      0.19      2280\n",
      "          9       0.57      0.66      0.61     21620\n",
      "         10       0.25      0.09      0.13      1408\n",
      "         11       0.56      0.01      0.02       516\n",
      "         12       0.29      0.24      0.26      1770\n",
      "         13       0.15      0.05      0.07       839\n",
      "         14       0.54      0.29      0.38       729\n",
      "         15       0.64      0.68      0.66     13429\n",
      "         16       0.28      0.05      0.09      3095\n",
      "         17       0.26      0.03      0.05      1036\n",
      "         18       0.29      0.26      0.27      1313\n",
      "         19       0.32      0.05      0.09       926\n",
      "         20       0.33      0.10      0.15      3092\n",
      "         21       0.83      0.25      0.38      1369\n",
      "         22       0.76      0.20      0.32     22301\n",
      "         23       0.56      0.39      0.46      1486\n",
      "         24       0.69      0.67      0.68       216\n",
      "         25       0.23      0.05      0.08       876\n",
      "         26       0.50      0.32      0.39      1401\n",
      "\n",
      "avg / total       0.56      0.41      0.43    100477\n",
      "\n"
     ]
    }
   ],
   "source": [
    "report_LogisticRegression_Word2Vec_MCC = classification_report(y_test_10,predict_LogisticRegression_Word2Vec_MCC)\n",
    "print(report_LogisticRegression_Word2Vec_MCC)"
   ]
  },
  {
   "cell_type": "code",
   "execution_count": 55,
   "metadata": {},
   "outputs": [
    {
     "name": "stdout",
     "output_type": "stream",
     "text": [
      "             precision    recall  f1-score   support\n",
      "\n",
      "          0       0.00      0.00      0.00       707\n",
      "          1       0.00      0.00      0.00       625\n",
      "          2       0.00      0.00      0.00      3079\n",
      "          3       0.94      0.00      0.00     13309\n",
      "          4       0.00      0.00      0.00       456\n",
      "          5       0.00      0.00      0.00       250\n",
      "          6       0.00      0.00      0.00       659\n",
      "          7       0.00      0.00      0.00      1690\n",
      "          8       0.00      0.00      0.00      2280\n",
      "          9       0.00      0.00      0.00     21620\n",
      "         10       0.00      0.00      0.00      1408\n",
      "         11       0.00      0.00      0.00       516\n",
      "         12       0.00      0.00      0.00      1770\n",
      "         13       0.00      0.00      0.00       839\n",
      "         14       0.00      0.00      0.00       729\n",
      "         15       0.00      0.00      0.00     13429\n",
      "         16       0.00      0.00      0.00      3095\n",
      "         17       0.00      0.00      0.00      1036\n",
      "         18       0.00      0.00      0.00      1313\n",
      "         19       0.00      0.00      0.00       926\n",
      "         20       0.00      0.00      0.00      3092\n",
      "         21       0.00      0.00      0.00      1369\n",
      "         22       0.00      0.00      0.00     22301\n",
      "         23       0.00      0.00      0.00      1486\n",
      "         24       0.00      0.00      0.00       216\n",
      "         25       0.00      0.00      0.00       876\n",
      "         26       0.00      0.00      0.00      1401\n",
      "\n",
      "avg / total       0.13      0.00      0.00    100477\n",
      "\n"
     ]
    },
    {
     "name": "stderr",
     "output_type": "stream",
     "text": [
      "/Users/Sina/anaconda/lib/python3.6/site-packages/sklearn/metrics/classification.py:1135: UndefinedMetricWarning: Precision and F-score are ill-defined and being set to 0.0 in labels with no predicted samples.\n",
      "  'precision', 'predicted', average, warn_for)\n"
     ]
    }
   ],
   "source": [
    "report_SVM_Chain_BR_Word2Vec_10 = classification_report(y_test_10,predict_SVM_Chain_BR_Word2Vec_10)\n",
    "print(report_SVM_Chain_BR_Word2Vec_10)"
   ]
  },
  {
   "cell_type": "code",
   "execution_count": 58,
   "metadata": {},
   "outputs": [
    {
     "name": "stdout",
     "output_type": "stream",
     "text": [
      "             precision    recall  f1-score   support\n",
      "\n",
      "          0       0.38      0.34      0.36       707\n",
      "          1       0.09      0.00      0.00       625\n",
      "          2       0.69      0.14      0.23      3079\n",
      "          3       0.58      0.45      0.50     13309\n",
      "          4       0.53      0.08      0.14       456\n",
      "          5       0.39      0.33      0.36       250\n",
      "          6       0.49      0.14      0.22       659\n",
      "          7       0.39      0.11      0.17      1690\n",
      "          8       0.49      0.08      0.13      2280\n",
      "          9       0.60      0.59      0.59     21620\n",
      "         10       0.25      0.05      0.09      1408\n",
      "         11       0.33      0.00      0.00       516\n",
      "         12       0.31      0.21      0.25      1770\n",
      "         13       0.13      0.03      0.05       839\n",
      "         14       0.58      0.29      0.39       729\n",
      "         15       0.64      0.70      0.67     13429\n",
      "         16       0.29      0.08      0.13      3095\n",
      "         17       0.27      0.03      0.06      1036\n",
      "         18       0.24      0.29      0.26      1313\n",
      "         19       0.25      0.07      0.11       926\n",
      "         20       0.27      0.10      0.15      3092\n",
      "         21       0.76      0.40      0.52      1369\n",
      "         22       0.68      0.28      0.39     22301\n",
      "         23       0.49      0.44      0.46      1486\n",
      "         24       0.43      0.75      0.55       216\n",
      "         25       0.15      0.09      0.12       876\n",
      "         26       0.17      0.50      0.26      1401\n",
      "\n",
      "avg / total       0.55      0.39      0.43    100477\n",
      "\n"
     ]
    }
   ],
   "source": [
    "report_SVM_Chain_MCC_Word2Vec_10 = classification_report(y_test_10,predict_SVM_Chain_MCC_Word2Vec_10)\n",
    "print(report_SVM_Chain_MCC_Word2Vec_10)"
   ]
  },
  {
   "cell_type": "markdown",
   "metadata": {},
   "source": [
    "## Plot"
   ]
  },
  {
   "cell_type": "code",
   "execution_count": 62,
   "metadata": {},
   "outputs": [
    {
     "data": {
      "image/png": "[encoded data removed]",
      "text/plain": [
       "<matplotlib.figure.Figure at 0x122adb7f0>"
      ]
     },
     "metadata": {},
     "output_type": "display_data"
    }
   ],
   "source": [
    "n_groups = 27\n",
    "\n",
    "fig, ax = plt.subplots()\n",
    "fig.set_size_inches(28.5, 10.5)\n",
    "index = np.arange(n_groups)\n",
    "bar_width = 0.15\n",
    "figsize=(15, 8)\n",
    "opacity = 0.8\n",
    "error_config = {'ecolor': '0.3'}\n",
    "\n",
    "rects1 = plt.bar(index, DecisionTreeClassifier, bar_width,\n",
    "                 alpha=opacity,\n",
    "                 color='navy',\n",
    "                 error_kw=error_config,\n",
    "                 label='DecisionTreeClassifier')\n",
    "\n",
    "rects2 = plt.bar(index+ bar_width, LogisticRegression_BR, bar_width,\n",
    "                 alpha=opacity,\n",
    "                 color='brown',\n",
    "                 error_kw=error_config,\n",
    "                 label='BR_LogisticRegression')\n",
    "\n",
    "rects3 = plt.bar(index+ 2*bar_width, LogisticRegression_CC, bar_width,\n",
    "                 alpha=opacity,\n",
    "                 color='silver',\n",
    "                 error_kw=error_config,\n",
    "                 label='CC_LogisticRegression')\n",
    "\n",
    "rects4 = plt.bar(index+ 3*bar_width, LogisticRegression_MCC, bar_width,\n",
    "                 alpha=opacity,\n",
    "                 color='olive',\n",
    "                 error_kw=error_config,\n",
    "                 label='MCC_LogisticRegression')\n",
    "\n",
    "rects6 = plt.bar(index+ 4*bar_width, SVM_MCC, bar_width,\n",
    "                 alpha=opacity,\n",
    "                 color='sandybrown',\n",
    "                 error_kw=error_config,\n",
    "                 label='MCC_SVM')\n",
    "\n",
    "\n",
    "plt.xlabel('Group')\n",
    "plt.ylabel('Scores')\n",
    "plt.title('F1-score by genre.')\n",
    "plt.xticks(index + 4*bar_width / 2, ('Reality-TV', 'Musical', 'Horror', 'Comedy', 'News','Talk-Show','War','Family','Action','Drama','Adventure','Adult','Crime','Mystery','Sport','Documentary','Thriller','Biography','Animation','Fantasy','Romance','Western','Short','Music','Game-Show','History','Sci-Fi'),rotation=70)\n",
    "plt.legend(loc=2,prop={'size':19})\n",
    "\n",
    "plt.tight_layout()\n",
    "plt.show()\n"
   ]
  },
  {
   "cell_type": "code",
   "execution_count": null,
   "metadata": {
    "collapsed": true
   },
   "outputs": [],
   "source": []
  }
 ],
 "metadata": {
  "kernelspec": {
   "display_name": "Python 3",
   "language": "python",
   "name": "python3"
  },
  "language_info": {
   "codemirror_mode": {
    "name": "ipython",
    "version": 3
   },
   "file_extension": ".py",
   "mimetype": "text/x-python",
   "name": "python",
   "nbconvert_exporter": "python",
   "pygments_lexer": "ipython3",
   "version": "3.6.3"
  }
 },
 "nbformat": 4,
 "nbformat_minor": 2
}
