{
 "cells": [
  {
   "cell_type": "markdown",
   "metadata": {},
   "source": [
    "### Vectorize and Visualization"
   ]
  },
  {
   "cell_type": "code",
   "execution_count": 23,
   "metadata": {
    "collapsed": true
   },
   "outputs": [],
   "source": [
    "import re\n",
    "import time\n",
    "import nltk\n",
    "import string\n",
    "import matplotlib\n",
    "import collections\n",
    "%matplotlib inline\n",
    "import numpy as np\n",
    "import pandas as pd \n",
    "from nltk import map_tag\n",
    "import matplotlib.pyplot as plt\n",
    "from nltk.corpus import stopwords\n",
    "from sklearn.utils import shuffle\n",
    "from gensim.models import KeyedVectors\n",
    "from gensim.models.doc2vec import TaggedDocument, Doc2Vec\n",
    "from sklearn.model_selection import StratifiedShuffleSplit\n",
    "from nltk import sent_tokenize,word_tokenize,pos_tag, word_tokenize\n",
    "from sklearn.feature_extraction.text import CountVectorizer,TfidfVectorizer"
   ]
  },
  {
   "cell_type": "code",
   "execution_count": 24,
   "metadata": {},
   "outputs": [
    {
     "name": "stderr",
     "output_type": "stream",
     "text": [
      "/Users/Sina/anaconda/lib/python3.6/site-packages/IPython/core/interactiveshell.py:2717: DtypeWarning: Columns (0,1,2,3,4,5,6,7,8,9,10,11,12,13,14,15,16,17,18,19,20,21,22,23,24,25,26,27) have mixed types. Specify dtype option on import or set low_memory=False.\n",
      "  interactivity=interactivity, compiler=compiler, result=result)\n"
     ]
    }
   ],
   "source": [
    "data = pd.read_csv(\"../input/imdb.csv\") # read the data\n",
    "data_for_analize = pd.read_csv(\"../input/imdb.csv\",header=None) # read the data for analize"
   ]
  },
  {
   "cell_type": "code",
   "execution_count": 25,
   "metadata": {
    "collapsed": true
   },
   "outputs": [],
   "source": [
    "data = shuffle(data)\n",
    "#data = data[0:1000]"
   ]
  },
  {
   "cell_type": "code",
   "execution_count": 26,
   "metadata": {
    "collapsed": true
   },
   "outputs": [],
   "source": [
    "genre = data.drop(['TITLE', 'SUMMARY'], axis=1)\n",
    "summary = data['SUMMARY']\n",
    "title = data['TITLE']"
   ]
  },
  {
   "cell_type": "code",
   "execution_count": 27,
   "metadata": {},
   "outputs": [
    {
     "name": "stdout",
     "output_type": "stream",
     "text": [
      "shape of genres  (301134, 28)\n",
      "shape of summary  (301134,)\n",
      "shape of title  (301134,)\n"
     ]
    }
   ],
   "source": [
    "print('shape of genres ',genre.shape)\n",
    "print('shape of summary ',summary.shape)\n",
    "print('shape of title ',title.shape)"
   ]
  },
  {
   "cell_type": "code",
   "execution_count": 28,
   "metadata": {
    "collapsed": true
   },
   "outputs": [],
   "source": [
    "save_path = '../vectors/all/'"
   ]
  },
  {
   "cell_type": "markdown",
   "metadata": {},
   "source": [
    "## Visualization"
   ]
  },
  {
   "cell_type": "code",
   "execution_count": 29,
   "metadata": {},
   "outputs": [
    {
     "name": "stdout",
     "output_type": "stream",
     "text": [
      "<class 'pandas.core.frame.DataFrame'>\n",
      "Int64Index: 301134 entries, 210856 to 292258\n",
      "Data columns (total 30 columns):\n",
      "Reality-TV     301134 non-null int64\n",
      "Musical        301134 non-null int64\n",
      "Horror         301134 non-null int64\n",
      "Comedy         301134 non-null int64\n",
      "News           301134 non-null int64\n",
      "Talk-Show      301134 non-null int64\n",
      "War            301134 non-null int64\n",
      "Family         301134 non-null int64\n",
      "Action         301134 non-null int64\n",
      "Drama          301134 non-null int64\n",
      "Adventure      301134 non-null int64\n",
      "Adult          301134 non-null int64\n",
      "Crime          301134 non-null int64\n",
      "Mystery        301134 non-null int64\n",
      "Sport          301134 non-null int64\n",
      "Documentary    301134 non-null int64\n",
      "Thriller       301134 non-null int64\n",
      "Biography      301134 non-null int64\n",
      "Animation      301134 non-null int64\n",
      "Fantasy        301134 non-null int64\n",
      "Romance        301134 non-null int64\n",
      "Western        301134 non-null int64\n",
      "Film-Noir      301134 non-null int64\n",
      "Short          301134 non-null int64\n",
      "Music          301134 non-null int64\n",
      "Game-Show      301134 non-null int64\n",
      "History        301134 non-null int64\n",
      "Sci-Fi         301134 non-null int64\n",
      "TITLE          301134 non-null object\n",
      "SUMMARY        301134 non-null object\n",
      "dtypes: int64(28), object(2)\n",
      "memory usage: 71.2+ MB\n"
     ]
    }
   ],
   "source": [
    "data.info()"
   ]
  },
  {
   "cell_type": "markdown",
   "metadata": {},
   "source": [
    "### genre distribution"
   ]
  },
  {
   "cell_type": "code",
   "execution_count": 30,
   "metadata": {
    "collapsed": true
   },
   "outputs": [],
   "source": [
    "no_of_genre= data_for_analize.as_matrix()[1:,0:28]\n",
    "\n",
    "for i in range(len(no_of_genre)):\n",
    "    for j in range(len(no_of_genre[0])):\n",
    "        no_of_genre[i][j] = int(no_of_genre[i][j])"
   ]
  },
  {
   "cell_type": "code",
   "execution_count": 31,
   "metadata": {
    "collapsed": true
   },
   "outputs": [],
   "source": [
    "a0 = 0\n",
    "a1 = 0\n",
    "a2=0\n",
    "a3=0\n",
    "a4=0\n",
    "a5=0\n",
    "aplus = 0\n",
    "for i in range(len(no_of_genre)):\n",
    "    if sum(no_of_genre[i])==0:\n",
    "        a0+=1\n",
    "    elif sum(no_of_genre[i])==1:\n",
    "        a1+=1\n",
    "    elif sum(no_of_genre[i])==2:\n",
    "        a2+=1\n",
    "    elif sum(no_of_genre[i])==3:\n",
    "        a3+=1\n",
    "    elif sum(no_of_genre[i])==4:\n",
    "        a4+=1\n",
    "    elif sum(no_of_genre[i])==5:\n",
    "        a5+=0\n",
    "    else:\n",
    "        aplus+=1\n",
    "\n"
   ]
  },
  {
   "cell_type": "code",
   "execution_count": 32,
   "metadata": {},
   "outputs": [
    {
     "data": {
      "image/png": "[encoded data removed]",
      "text/plain": [
       "<matplotlib.figure.Figure at 0x115cdf9b0>"
      ]
     },
     "metadata": {},
     "output_type": "display_data"
    },
    {
     "data": {
      "text/plain": [
       "<matplotlib.figure.Figure at 0x120005d68>"
      ]
     },
     "metadata": {},
     "output_type": "display_data"
    }
   ],
   "source": [
    "key = ['1 genres', '2 genres','3 genres','4 genres','5 genres','more-than-five']\n",
    "values = [a1,a2,a3,a4,a5,aplus]\n",
    "plt.figure(figsize=(7,3))\n",
    "\n",
    "res1= plt.bar(key, values, 0.6)\n",
    "plt.ylabel('# movies')\n",
    "plt.show()\n",
    "plt.savefig('distribution.png')\n"
   ]
  },
  {
   "cell_type": "markdown",
   "metadata": {},
   "source": [
    "### Number of movies per genre"
   ]
  },
  {
   "cell_type": "code",
   "execution_count": 33,
   "metadata": {},
   "outputs": [
    {
     "data": {
      "text/html": [
       "<div>\n",
       "<style>\n",
       "    .dataframe thead tr:only-child th {\n",
       "        text-align: right;\n",
       "    }\n",
       "\n",
       "    .dataframe thead th {\n",
       "        text-align: left;\n",
       "    }\n",
       "\n",
       "    .dataframe tbody tr th {\n",
       "        vertical-align: top;\n",
       "    }\n",
       "</style>\n",
       "<table border=\"1\" class=\"dataframe\">\n",
       "  <thead>\n",
       "    <tr style=\"text-align: right;\">\n",
       "      <th></th>\n",
       "      <th>genre</th>\n",
       "      <th>movies</th>\n",
       "    </tr>\n",
       "  </thead>\n",
       "  <tbody>\n",
       "    <tr>\n",
       "      <th>0</th>\n",
       "      <td>Reality-TV</td>\n",
       "      <td>2494</td>\n",
       "    </tr>\n",
       "    <tr>\n",
       "      <th>1</th>\n",
       "      <td>Musical</td>\n",
       "      <td>5680</td>\n",
       "    </tr>\n",
       "    <tr>\n",
       "      <th>2</th>\n",
       "      <td>Horror</td>\n",
       "      <td>19316</td>\n",
       "    </tr>\n",
       "    <tr>\n",
       "      <th>3</th>\n",
       "      <td>Comedy</td>\n",
       "      <td>71359</td>\n",
       "    </tr>\n",
       "    <tr>\n",
       "      <th>4</th>\n",
       "      <td>News</td>\n",
       "      <td>4941</td>\n",
       "    </tr>\n",
       "    <tr>\n",
       "      <th>5</th>\n",
       "      <td>Talk-Show</td>\n",
       "      <td>927</td>\n",
       "    </tr>\n",
       "    <tr>\n",
       "      <th>6</th>\n",
       "      <td>War</td>\n",
       "      <td>7394</td>\n",
       "    </tr>\n",
       "    <tr>\n",
       "      <th>7</th>\n",
       "      <td>Family</td>\n",
       "      <td>20543</td>\n",
       "    </tr>\n",
       "    <tr>\n",
       "      <th>8</th>\n",
       "      <td>Action</td>\n",
       "      <td>24810</td>\n",
       "    </tr>\n",
       "    <tr>\n",
       "      <th>9</th>\n",
       "      <td>Drama</td>\n",
       "      <td>117906</td>\n",
       "    </tr>\n",
       "    <tr>\n",
       "      <th>10</th>\n",
       "      <td>Adventure</td>\n",
       "      <td>17777</td>\n",
       "    </tr>\n",
       "    <tr>\n",
       "      <th>11</th>\n",
       "      <td>Adult</td>\n",
       "      <td>2014</td>\n",
       "    </tr>\n",
       "    <tr>\n",
       "      <th>12</th>\n",
       "      <td>Crime</td>\n",
       "      <td>18939</td>\n",
       "    </tr>\n",
       "    <tr>\n",
       "      <th>13</th>\n",
       "      <td>Mystery</td>\n",
       "      <td>13659</td>\n",
       "    </tr>\n",
       "    <tr>\n",
       "      <th>14</th>\n",
       "      <td>Sport</td>\n",
       "      <td>5934</td>\n",
       "    </tr>\n",
       "    <tr>\n",
       "      <th>15</th>\n",
       "      <td>Documentary</td>\n",
       "      <td>60321</td>\n",
       "    </tr>\n",
       "    <tr>\n",
       "      <th>16</th>\n",
       "      <td>Thriller</td>\n",
       "      <td>28195</td>\n",
       "    </tr>\n",
       "    <tr>\n",
       "      <th>17</th>\n",
       "      <td>Biography</td>\n",
       "      <td>13275</td>\n",
       "    </tr>\n",
       "    <tr>\n",
       "      <th>18</th>\n",
       "      <td>Animation</td>\n",
       "      <td>15231</td>\n",
       "    </tr>\n",
       "    <tr>\n",
       "      <th>19</th>\n",
       "      <td>Fantasy</td>\n",
       "      <td>14549</td>\n",
       "    </tr>\n",
       "    <tr>\n",
       "      <th>20</th>\n",
       "      <td>Romance</td>\n",
       "      <td>28714</td>\n",
       "    </tr>\n",
       "    <tr>\n",
       "      <th>21</th>\n",
       "      <td>Western</td>\n",
       "      <td>7079</td>\n",
       "    </tr>\n",
       "    <tr>\n",
       "      <th>22</th>\n",
       "      <td>Film-Noir</td>\n",
       "      <td>658</td>\n",
       "    </tr>\n",
       "    <tr>\n",
       "      <th>23</th>\n",
       "      <td>Short</td>\n",
       "      <td>116777</td>\n",
       "    </tr>\n",
       "    <tr>\n",
       "      <th>24</th>\n",
       "      <td>Music</td>\n",
       "      <td>11126</td>\n",
       "    </tr>\n",
       "    <tr>\n",
       "      <th>25</th>\n",
       "      <td>Game-Show</td>\n",
       "      <td>746</td>\n",
       "    </tr>\n",
       "    <tr>\n",
       "      <th>26</th>\n",
       "      <td>History</td>\n",
       "      <td>12061</td>\n",
       "    </tr>\n",
       "    <tr>\n",
       "      <th>27</th>\n",
       "      <td>Sci-Fi</td>\n",
       "      <td>13813</td>\n",
       "    </tr>\n",
       "  </tbody>\n",
       "</table>\n",
       "</div>"
      ],
      "text/plain": [
       "          genre  movies\n",
       "0    Reality-TV    2494\n",
       "1       Musical    5680\n",
       "2        Horror   19316\n",
       "3        Comedy   71359\n",
       "4          News    4941\n",
       "5     Talk-Show     927\n",
       "6           War    7394\n",
       "7        Family   20543\n",
       "8        Action   24810\n",
       "9         Drama  117906\n",
       "10    Adventure   17777\n",
       "11        Adult    2014\n",
       "12        Crime   18939\n",
       "13      Mystery   13659\n",
       "14        Sport    5934\n",
       "15  Documentary   60321\n",
       "16     Thriller   28195\n",
       "17    Biography   13275\n",
       "18    Animation   15231\n",
       "19      Fantasy   14549\n",
       "20      Romance   28714\n",
       "21      Western    7079\n",
       "22    Film-Noir     658\n",
       "23        Short  116777\n",
       "24        Music   11126\n",
       "25    Game-Show     746\n",
       "26      History   12061\n",
       "27       Sci-Fi   13813"
      ]
     },
     "execution_count": 33,
     "metadata": {},
     "output_type": "execute_result"
    }
   ],
   "source": [
    "counts = []\n",
    "categories = list(genre.columns.values)\n",
    "for i in categories:\n",
    "    counts.append((i, genre[i].sum()))\n",
    "data_stats= pd.DataFrame(counts, columns=['genre', 'movies'])\n",
    "data_stats"
   ]
  },
  {
   "cell_type": "code",
   "execution_count": 34,
   "metadata": {},
   "outputs": [
    {
     "data": {
      "text/plain": [
       "<matplotlib.axes._subplots.AxesSubplot at 0x1438b64e0>"
      ]
     },
     "execution_count": 34,
     "metadata": {},
     "output_type": "execute_result"
    },
    {
     "data": {
      "image/png": "[encoded data removed]",
      "text/plain": [
       "<matplotlib.figure.Figure at 0x1200090f0>"
      ]
     },
     "metadata": {},
     "output_type": "display_data"
    }
   ],
   "source": [
    "data_stats.plot(x='genre', y='movies', kind=\"bar\",figsize=(15, 8))"
   ]
  },
  {
   "cell_type": "markdown",
   "metadata": {},
   "source": [
    "Since Talk-Show, Adult, Film-Noir and Game show have very small number of movies, maybe it is usefull to delete them from our genre. So we will generate another genre dataframe without these genres"
   ]
  },
  {
   "cell_type": "code",
   "execution_count": 35,
   "metadata": {
    "collapsed": true
   },
   "outputs": [],
   "source": [
    "balanced_genre = genre.drop('Talk-Show', 1)\n",
    "balanced_genre = balanced_genre.drop('Adult',1)\n",
    "balanced_genre = balanced_genre.drop('Film-Noir',1)\n",
    "balanced_genre = balanced_genre.drop('Game-Show',1)"
   ]
  },
  {
   "cell_type": "code",
   "execution_count": 36,
   "metadata": {},
   "outputs": [
    {
     "name": "stdout",
     "output_type": "stream",
     "text": [
      "shape of balanced_genre (301134, 24)\n"
     ]
    }
   ],
   "source": [
    "print('shape of balanced_genre',balanced_genre.shape)"
   ]
  },
  {
   "cell_type": "code",
   "execution_count": 37,
   "metadata": {},
   "outputs": [
    {
     "data": {
      "text/plain": [
       "<matplotlib.axes._subplots.AxesSubplot at 0x120020da0>"
      ]
     },
     "execution_count": 37,
     "metadata": {},
     "output_type": "execute_result"
    },
    {
     "data": {
      "image/png": "[encoded data removed]",
      "text/plain": [
       "<matplotlib.figure.Figure at 0x12b07eb00>"
      ]
     },
     "metadata": {},
     "output_type": "display_data"
    }
   ],
   "source": [
    "counts = []\n",
    "categories = list(balanced_genre.columns.values)\n",
    "for i in categories:\n",
    "    counts.append((i, balanced_genre[i].sum()))\n",
    "data_stats= pd.DataFrame(counts, columns=['genre', 'movies'])\n",
    "data_stats.plot(x='genre', y='movies', kind=\"bar\",figsize=(15, 8),color='purple')"
   ]
  },
  {
   "cell_type": "markdown",
   "metadata": {},
   "source": [
    "#### Average  genre of a movie"
   ]
  },
  {
   "cell_type": "code",
   "execution_count": 38,
   "metadata": {},
   "outputs": [
    {
     "name": "stdout",
     "output_type": "stream",
     "text": [
      "Each movie belongs on average to  2.1792225388  genre\n"
     ]
    }
   ],
   "source": [
    "a = 0\n",
    "for idx,i in enumerate(genre):\n",
    "    a =a+ sum(genre[i])    \n",
    "c = a/genre.shape[0]\n",
    "print('Each movie belongs on average to ', c ,' genre',)"
   ]
  },
  {
   "cell_type": "markdown",
   "metadata": {},
   "source": [
    "#### Top 20 Most Frequent label occurrence"
   ]
  },
  {
   "cell_type": "code",
   "execution_count": 41,
   "metadata": {
    "collapsed": true
   },
   "outputs": [],
   "source": [
    "data_for_analize_distinct= data_for_analize.as_matrix()[1:,0:28]\n",
    "d = collections.OrderedDict()\n",
    "for a in data_for_analize_distinct:\n",
    " t = tuple(a)\n",
    " if t in d:\n",
    "  d[t] += 1\n",
    " else:\n",
    "  d[t] = 1\n",
    "\n",
    "result = []\n",
    "for key, value in d.items():\n",
    " result.append(list(key) + [int(value)])\n",
    "\n",
    "B = np.asarray(result)\n",
    "\n",
    "a=[]\n",
    "f = []\n",
    "for i in range(len(B)):\n",
    "    for j in range(len(B[0])):\n",
    "        a.append(int(B[i][j]))\n",
    "    f.append(a)\n",
    "    a = []  \n",
    "    \n",
    "f = sorted(f,key=lambda x: x[-1])\n",
    "f.reverse()\n",
    "distinct_label_ocu = np.asarray(f)\n",
    "temp = pd.DataFrame(distinct_label_ocu[0:10,0:28])\n",
    "distinct_label = temp"
   ]
  },
  {
   "cell_type": "code",
   "execution_count": 60,
   "metadata": {},
   "outputs": [
    {
     "data": {
      "text/plain": [
       "301135"
      ]
     },
     "execution_count": 60,
     "metadata": {},
     "output_type": "execute_result"
    }
   ],
   "source": [
    "tmp = data_for_analize.as_matrix()\n",
    "\n",
    "len(tmp)"
   ]
  },
  {
   "cell_type": "code",
   "execution_count": 63,
   "metadata": {
    "collapsed": true
   },
   "outputs": [],
   "source": [
    "tmp = data_for_analize.as_matrix()\n",
    "data_dict_first10 = []\n",
    "for i in range(1,len(tmp)):\n",
    "    for j in range(len(v)):\n",
    "        if sum(tmp[i,0:28] -v[j]) ==0:\n",
    "            data_dict_first10.append(tmp[i])\n",
    "            break;\n",
    "data_dict_first10 = pd.DataFrame(data_dict_first10) #data_dict_first20 is a new data which has only top 20 genre occurance\n",
    "data_dict_first10.columns = list(data.columns.values) "
   ]
  },
  {
   "cell_type": "code",
   "execution_count": 64,
   "metadata": {
    "collapsed": true
   },
   "outputs": [],
   "source": [
    "top10_genre = data_dict_first10.drop(['TITLE', 'SUMMARY'], axis=1)\n",
    "top10_summary = data_dict_first10['SUMMARY']\n",
    "top10_title = data_dict_first10['TITLE']"
   ]
  },
  {
   "cell_type": "code",
   "execution_count": 65,
   "metadata": {},
   "outputs": [
    {
     "name": "stdout",
     "output_type": "stream",
     "text": [
      "shape of top10_genre  (204576, 28)\n",
      "shape of top10_summary  (204576,)\n",
      "shape of top10_title  (204576,)\n"
     ]
    }
   ],
   "source": [
    "print('shape of top10_genre ',top10_genre.shape)\n",
    "print('shape of top10_summary ',top10_summary.shape)\n",
    "print('shape of top10_title ',top10_title.shape)"
   ]
  },
  {
   "cell_type": "code",
   "execution_count": 66,
   "metadata": {},
   "outputs": [
    {
     "data": {
      "text/plain": [
       "<matplotlib.axes._subplots.AxesSubplot at 0x11dedbe10>"
      ]
     },
     "execution_count": 66,
     "metadata": {},
     "output_type": "execute_result"
    },
    {
     "data": {
      "image/png": "[encoded data removed]",
      "text/plain": [
       "<matplotlib.figure.Figure at 0x1186f8160>"
      ]
     },
     "metadata": {},
     "output_type": "display_data"
    }
   ],
   "source": [
    "counts = []\n",
    "categories = list(top10_genre.columns.values)\n",
    "for i in categories:\n",
    "    counts.append((i, top10_genre[i].sum()))\n",
    "data_stats= pd.DataFrame(counts, columns=['genre', 'movies'])\n",
    "data_stats.plot(x='genre', y='movies', kind=\"bar\",figsize=(15, 8),color='green')"
   ]
  },
  {
   "cell_type": "markdown",
   "metadata": {},
   "source": [
    "# Vectorize"
   ]
  },
  {
   "cell_type": "markdown",
   "metadata": {},
   "source": [
    "### tokenizing"
   ]
  },
  {
   "cell_type": "code",
   "execution_count": 67,
   "metadata": {
    "collapsed": true
   },
   "outputs": [],
   "source": [
    "stpwds = stopwords.words('english')"
   ]
  },
  {
   "cell_type": "markdown",
   "metadata": {},
   "source": [
    "##### Usefull functions"
   ]
  },
  {
   "cell_type": "code",
   "execution_count": 68,
   "metadata": {
    "collapsed": true
   },
   "outputs": [],
   "source": [
    "def clean_POS(x ,my_stopwords, remove_stopwords=True,stemming = False):\n",
    "    \n",
    "    sentences = sent_tokenize(x)\n",
    "    sents = []\n",
    "    for s in sentences:\n",
    "        text = word_tokenize(s)\n",
    "        #text= text.lower()\n",
    "        #text= [X.lower() for X in text]\n",
    "        if remove_stopwords:\n",
    "            text = [token for token in text if token not in my_stopwords]\n",
    "        if stemming:\n",
    "            stemmer = nltk.stem.PorterStemmer()\n",
    "            tokens_stemmed = list()\n",
    "            for token in text:\n",
    "                tokens_stemmed.append(stemmer.stem(token))\n",
    "            text = tokens_stemmed\n",
    "            \n",
    "        pos_tagged = pos_tag(text)\n",
    "        simplified_tags = [\n",
    "            (word, map_tag('en-ptb', 'universal', tag)) for word, tag in pos_tagged]\n",
    "        sents.append(simplified_tags)\n",
    "       \n",
    "    return sents"
   ]
  },
  {
   "cell_type": "code",
   "execution_count": 69,
   "metadata": {
    "collapsed": true
   },
   "outputs": [],
   "source": [
    "def post_tag_documents(X,y,stem = False):\n",
    "    X = X.as_matrix().tolist()\n",
    "    y= y.as_matrix()\n",
    "    stpwds = stopwords.words('english')\n",
    "    x_data = []\n",
    "    y_data = []\n",
    "    total = len(X)\n",
    "    plots = X\n",
    "    genres = y\n",
    "    for i in range(len(plots)):\n",
    "        plot = plots[i]\n",
    "        #plot = plots.replace(\"-\",\" \")\n",
    "        plot = re.sub(' +',' ',plot) # strip extra white space\n",
    "        plot = re.sub(\"[^a-zA-Z ! ?]\",\"\", plot)\n",
    "        plot = plot.strip()\n",
    "        sents = clean_POS(plot,stpwds,stemming=stem)\n",
    "        x_data.append(sents)\n",
    "        y_data.append(genres[i])\n",
    "        i += 1\n",
    "        if i % 5000 == 0:\n",
    "            print (i, \"/\", total)\n",
    "\n",
    "    return x_data, y_data"
   ]
  },
  {
   "cell_type": "markdown",
   "metadata": {},
   "source": [
    "### Word2Vec"
   ]
  },
  {
   "cell_type": "code",
   "execution_count": 70,
   "metadata": {
    "collapsed": true
   },
   "outputs": [],
   "source": [
    "google_vecs = KeyedVectors.load_word2vec_format('../input/GoogleNews-vectors-negative300.bin', binary=True) #google pretrained Vector"
   ]
  },
  {
   "cell_type": "code",
   "execution_count": 72,
   "metadata": {},
   "outputs": [
    {
     "name": "stdout",
     "output_type": "stream",
     "text": [
      "5000 / 301134\n",
      "10000 / 301134\n",
      "15000 / 301134\n",
      "20000 / 301134\n",
      "25000 / 301134\n",
      "30000 / 301134\n",
      "35000 / 301134\n",
      "40000 / 301134\n",
      "45000 / 301134\n",
      "50000 / 301134\n",
      "55000 / 301134\n",
      "60000 / 301134\n",
      "65000 / 301134\n",
      "70000 / 301134\n",
      "75000 / 301134\n",
      "80000 / 301134\n",
      "85000 / 301134\n",
      "90000 / 301134\n",
      "95000 / 301134\n",
      "100000 / 301134\n",
      "105000 / 301134\n",
      "110000 / 301134\n",
      "115000 / 301134\n",
      "120000 / 301134\n",
      "125000 / 301134\n",
      "130000 / 301134\n",
      "135000 / 301134\n",
      "140000 / 301134\n",
      "145000 / 301134\n",
      "150000 / 301134\n",
      "155000 / 301134\n",
      "160000 / 301134\n",
      "165000 / 301134\n",
      "170000 / 301134\n",
      "175000 / 301134\n",
      "180000 / 301134\n",
      "185000 / 301134\n",
      "190000 / 301134\n",
      "195000 / 301134\n",
      "200000 / 301134\n",
      "205000 / 301134\n",
      "210000 / 301134\n",
      "215000 / 301134\n",
      "220000 / 301134\n",
      "225000 / 301134\n",
      "230000 / 301134\n",
      "235000 / 301134\n",
      "240000 / 301134\n",
      "245000 / 301134\n",
      "250000 / 301134\n",
      "255000 / 301134\n",
      "260000 / 301134\n",
      "265000 / 301134\n",
      "270000 / 301134\n",
      "275000 / 301134\n",
      "280000 / 301134\n",
      "285000 / 301134\n",
      "290000 / 301134\n",
      "295000 / 301134\n",
      "300000 / 301134\n",
      "Tokenizing took:  1392.8032541275024 seconds\n"
     ]
    }
   ],
   "source": [
    "t = time.time()\n",
    "word_and_label = post_tag_documents(summary,genre)\n",
    "\n",
    "print('Tokenizing took: ', time.time()-t , 'seconds')"
   ]
  },
  {
   "cell_type": "code",
   "execution_count": 73,
   "metadata": {
    "collapsed": true
   },
   "outputs": [],
   "source": [
    "x_data = word_and_label[0] # tokenized x_data  for example : ('With', 'ADP'),('fallout', 'ADJ')\n",
    "y_data = word_and_label[1]# labels"
   ]
  },
  {
   "cell_type": "code",
   "execution_count": 74,
   "metadata": {
    "collapsed": true
   },
   "outputs": [],
   "source": [
    "def word2vec(x_data, pos_filter,vector):\n",
    "\n",
    "    print (\"Loading GoogleNews-vectors-negative300.bin\")\n",
    "    google_vecs = vector\n",
    "    print (\"GoogleNews-vectors-negative300.bin loaded\")\n",
    "    print (\"Considering only\", pos_filter)\n",
    "    print (\"Averaging Word Embeddings...\")\n",
    "    x_data_embeddings = []\n",
    "    total = len(x_data)\n",
    "    processed = 0\n",
    "    false_count=0\n",
    "    for tagged_plot in x_data:\n",
    "        count = 0\n",
    "        doc_vector = np.zeros(300)\n",
    "        for sentence in tagged_plot:\n",
    "            for tagged_word in sentence:\n",
    "                if tagged_word[1] in pos_filter:\n",
    "                    try:\n",
    "                        doc_vector += google_vecs[tagged_word[0]]\n",
    "                        count += 1\n",
    "                    except KeyError:\n",
    "                        false_count+=1\n",
    "                        continue\n",
    "                        \n",
    "\n",
    "        doc_vector /= count\n",
    "        if np.isnan(np.min(doc_vector)):\n",
    "            continue\n",
    "\n",
    "        x_data_embeddings.append(doc_vector)\n",
    "\n",
    "        processed += 1\n",
    "        if processed % 10000 == 0:\n",
    "            print (processed, \"/\", total)\n",
    "    print('Word Embeddings Done')        \n",
    "    return np.array(x_data_embeddings)"
   ]
  },
  {
   "cell_type": "code",
   "execution_count": 75,
   "metadata": {},
   "outputs": [
    {
     "name": "stdout",
     "output_type": "stream",
     "text": [
      "Loading GoogleNews-vectors-negative300.bin\n",
      "GoogleNews-vectors-negative300.bin loaded\n",
      "Considering only ['NOUN', 'ADJ', 'VERB']\n",
      "Averaging Word Embeddings...\n",
      "10000 / 301134\n",
      "20000 / 301134\n",
      "30000 / 301134\n",
      "40000 / 301134\n",
      "50000 / 301134\n",
      "60000 / 301134\n",
      "70000 / 301134\n",
      "80000 / 301134\n",
      "90000 / 301134\n",
      "100000 / 301134\n",
      "110000 / 301134\n",
      "120000 / 301134\n",
      "130000 / 301134\n",
      "140000 / 301134\n",
      "150000 / 301134\n",
      "160000 / 301134\n",
      "170000 / 301134\n",
      "180000 / 301134\n",
      "190000 / 301134\n",
      "200000 / 301134\n",
      "210000 / 301134\n",
      "220000 / 301134\n",
      "230000 / 301134\n",
      "240000 / 301134\n",
      "250000 / 301134\n",
      "260000 / 301134\n",
      "270000 / 301134\n",
      "280000 / 301134\n",
      "290000 / 301134\n",
      "300000 / 301134\n",
      "Word Embeddings Done\n",
      "word2vec took  551.3431630134583  seconds\n",
      "Shape of x_embeddings (301134, 300)\n"
     ]
    }
   ],
   "source": [
    "t = time.time()\n",
    "\n",
    "pos_filter = ['NOUN', 'ADJ','VERB'] # maybe we can add 'PRT','ADV' and others too\n",
    "x_embeddings = word2vec(x_data, pos_filter,google_vecs)# get embeddings for train and test data\n",
    "\n",
    "print('word2vec took ', time.time()-t,' seconds' )\n",
    "\n",
    "print('Shape of x_embeddings',x_embeddings.shape)"
   ]
  },
  {
   "cell_type": "markdown",
   "metadata": {},
   "source": [
    "Now we can store our x_embeding and labels for train and test"
   ]
  },
  {
   "cell_type": "code",
   "execution_count": 76,
   "metadata": {
    "collapsed": true
   },
   "outputs": [],
   "source": [
    "x_embeddings = pd.DataFrame(x_embeddings)\n",
    "y = pd.DataFrame(y_data)\n",
    "\n",
    "x_embeddings.to_csv(save_path+'word2vec/x_embeddings_Word2Vec.csv', index=False)\n",
    "y.to_csv(save_path+'word2vec/y_data_Word2Vec.csv', index=False)"
   ]
  },
  {
   "cell_type": "markdown",
   "metadata": {},
   "source": [
    "### Word2Vec top 20  dictinct Genre "
   ]
  },
  {
   "cell_type": "code",
   "execution_count": 77,
   "metadata": {},
   "outputs": [
    {
     "name": "stdout",
     "output_type": "stream",
     "text": [
      "5000 / 204576\n",
      "10000 / 204576\n",
      "15000 / 204576\n",
      "20000 / 204576\n",
      "25000 / 204576\n",
      "30000 / 204576\n",
      "35000 / 204576\n",
      "40000 / 204576\n",
      "45000 / 204576\n",
      "50000 / 204576\n",
      "55000 / 204576\n",
      "60000 / 204576\n",
      "65000 / 204576\n",
      "70000 / 204576\n",
      "75000 / 204576\n",
      "80000 / 204576\n",
      "85000 / 204576\n",
      "90000 / 204576\n",
      "95000 / 204576\n",
      "100000 / 204576\n",
      "105000 / 204576\n",
      "110000 / 204576\n",
      "115000 / 204576\n",
      "120000 / 204576\n",
      "125000 / 204576\n",
      "130000 / 204576\n",
      "135000 / 204576\n",
      "140000 / 204576\n",
      "145000 / 204576\n",
      "150000 / 204576\n",
      "155000 / 204576\n",
      "160000 / 204576\n",
      "165000 / 204576\n",
      "170000 / 204576\n",
      "175000 / 204576\n",
      "180000 / 204576\n",
      "185000 / 204576\n",
      "190000 / 204576\n",
      "195000 / 204576\n",
      "200000 / 204576\n"
     ]
    }
   ],
   "source": [
    "word_and_label = post_tag_documents(top10_summary,top10_genre)#top20_title"
   ]
  },
  {
   "cell_type": "code",
   "execution_count": 78,
   "metadata": {
    "collapsed": true
   },
   "outputs": [],
   "source": [
    "x_data = word_and_label[0] # tokenized x_data  for example : ('With', 'ADP'),('fallout', 'ADJ')\n",
    "y_data = word_and_label[1]"
   ]
  },
  {
   "cell_type": "code",
   "execution_count": 79,
   "metadata": {},
   "outputs": [
    {
     "name": "stdout",
     "output_type": "stream",
     "text": [
      "Loading GoogleNews-vectors-negative300.bin\n",
      "GoogleNews-vectors-negative300.bin loaded\n",
      "Considering only ['NOUN', 'ADJ', 'VERB']\n",
      "Averaging Word Embeddings...\n",
      "10000 / 204576\n",
      "20000 / 204576\n",
      "30000 / 204576\n",
      "40000 / 204576\n",
      "50000 / 204576\n",
      "60000 / 204576\n",
      "70000 / 204576\n",
      "80000 / 204576\n",
      "90000 / 204576\n",
      "100000 / 204576\n",
      "110000 / 204576\n",
      "120000 / 204576\n",
      "130000 / 204576\n",
      "140000 / 204576\n",
      "150000 / 204576\n",
      "160000 / 204576\n",
      "170000 / 204576\n",
      "180000 / 204576\n",
      "190000 / 204576\n",
      "200000 / 204576\n",
      "Word Embeddings Done\n",
      "word2vec Top20 took  153.5524821281433  seconds\n",
      "Shape of x_embeddings (204576, 300)\n"
     ]
    }
   ],
   "source": [
    "t= time.time()\n",
    "pos_filter = ['NOUN', 'ADJ','VERB'] # maybe we can add 'PRT','ADV' and others too\n",
    "x_embeddings = word2vec(x_data, pos_filter,google_vecs)# get embeddings for train and test data\n",
    "\n",
    "print('word2vec Top20 took ', time.time()-t,' seconds' )\n",
    "print('Shape of x_embeddings',x_embeddings.shape)"
   ]
  },
  {
   "cell_type": "code",
   "execution_count": 80,
   "metadata": {
    "collapsed": true
   },
   "outputs": [],
   "source": [
    "x_embeddings = pd.DataFrame(x_embeddings)\n",
    "y = pd.DataFrame(y_data)\n",
    "\n",
    "x_embeddings.to_csv(save_path+'word2vectop10/x_embeddings_Word2Vec_top10.csv', index=False)\n",
    "y.to_csv(save_path+'word2vectop10/y_data_Word2Vec_top10.csv', index=False)"
   ]
  },
  {
   "cell_type": "markdown",
   "metadata": {},
   "source": [
    "### Doc2Vec"
   ]
  },
  {
   "cell_type": "markdown",
   "metadata": {},
   "source": [
    "### In Doc2Vec and bag of words we should split our train and test data before vectorizing because test data shouln't have influence on our Doc2Vec and bag of words models"
   ]
  },
  {
   "cell_type": "markdown",
   "metadata": {},
   "source": [
    "### Tokenize for Doc2Vec and bag of words"
   ]
  },
  {
   "cell_type": "code",
   "execution_count": 81,
   "metadata": {
    "collapsed": true
   },
   "outputs": [],
   "source": [
    "pos_filter = ['NOUN', 'ADJ','VERB'] # maybe we can add 'PRT','ADV' and others too"
   ]
  },
  {
   "cell_type": "code",
   "execution_count": 82,
   "metadata": {},
   "outputs": [
    {
     "name": "stdout",
     "output_type": "stream",
     "text": [
      "size of train data :  210793\n",
      "size of test data :  90341\n"
     ]
    }
   ],
   "source": [
    "msk = int(len(data)*70/100)\n",
    "\n",
    "\n",
    "genre_train = genre[0:msk]\n",
    "summary_train = summary[0:msk]\n",
    "title_train = title[0:msk].as_matrix()\n",
    "\n",
    "\n",
    "genre_test = genre[msk:]\n",
    "summary_test = summary[msk:]\n",
    "title_test = title[msk:].as_matrix()\n",
    "\n",
    "\n",
    "print('size of train data : ',summary_train.shape[0])\n",
    "print('size of test data : ',summary_test.shape[0])"
   ]
  },
  {
   "cell_type": "code",
   "execution_count": 83,
   "metadata": {},
   "outputs": [
    {
     "name": "stdout",
     "output_type": "stream",
     "text": [
      "5000 / 210793\n",
      "10000 / 210793\n",
      "15000 / 210793\n",
      "20000 / 210793\n",
      "25000 / 210793\n",
      "30000 / 210793\n",
      "35000 / 210793\n",
      "40000 / 210793\n",
      "45000 / 210793\n",
      "50000 / 210793\n",
      "55000 / 210793\n",
      "60000 / 210793\n",
      "65000 / 210793\n",
      "70000 / 210793\n",
      "75000 / 210793\n",
      "80000 / 210793\n",
      "85000 / 210793\n",
      "90000 / 210793\n",
      "95000 / 210793\n",
      "100000 / 210793\n",
      "105000 / 210793\n",
      "110000 / 210793\n",
      "115000 / 210793\n",
      "120000 / 210793\n",
      "125000 / 210793\n",
      "130000 / 210793\n",
      "135000 / 210793\n",
      "140000 / 210793\n",
      "145000 / 210793\n",
      "150000 / 210793\n",
      "155000 / 210793\n",
      "160000 / 210793\n",
      "165000 / 210793\n",
      "170000 / 210793\n",
      "175000 / 210793\n",
      "180000 / 210793\n",
      "185000 / 210793\n",
      "190000 / 210793\n",
      "195000 / 210793\n",
      "200000 / 210793\n",
      "205000 / 210793\n",
      "210000 / 210793\n",
      "5000 / 90341\n",
      "10000 / 90341\n",
      "15000 / 90341\n",
      "20000 / 90341\n",
      "25000 / 90341\n",
      "30000 / 90341\n",
      "35000 / 90341\n",
      "40000 / 90341\n",
      "45000 / 90341\n",
      "50000 / 90341\n",
      "55000 / 90341\n",
      "60000 / 90341\n",
      "65000 / 90341\n",
      "70000 / 90341\n",
      "75000 / 90341\n",
      "80000 / 90341\n",
      "85000 / 90341\n",
      "90000 / 90341\n"
     ]
    }
   ],
   "source": [
    "word_and_label_stemmed_train = post_tag_documents(summary_train,genre_train,stem=True) #stemmming changed to true for Doc2Vec\n",
    "word_and_label_stemmed_test = post_tag_documents(summary_test,genre_test,stem=True) #***stem=true***\n",
    "\n",
    "x_data_stemmed_train = word_and_label_stemmed_train[0] # tokenized x_data  for example : ('With', 'ADP'),('fallout', 'ADJ')\n",
    "y_data_stemmed_train = word_and_label_stemmed_train[1] # labels\n",
    "\n",
    "x_data_stemmed_test = word_and_label_stemmed_test[0] # tokenized x_data  for example : ('With', 'ADP'),('fallout', 'ADJ')\n",
    "y_data_stemmed_test = word_and_label_stemmed_test[1] # labels\n"
   ]
  },
  {
   "cell_type": "code",
   "execution_count": 84,
   "metadata": {
    "collapsed": true
   },
   "outputs": [],
   "source": [
    "def tagged_document(X,lab,pos_filter):\n",
    "    i = 0\n",
    "    tag = []\n",
    "    document = []\n",
    "    for tagged_plot in X:\n",
    "        label = [\"_\".join(lab[i].split())]\n",
    "        i +=1\n",
    "        for sentence in tagged_plot:\n",
    "            for tagged_word in sentence:\n",
    "                if tagged_word[1] in pos_filter:\n",
    "                    document.append(tagged_word[0])\n",
    "        \n",
    "        doc = TaggedDocument(document, label)\n",
    "        tag.append(doc)\n",
    "        document = []\n",
    "        \n",
    "    return tag"
   ]
  },
  {
   "cell_type": "code",
   "execution_count": 85,
   "metadata": {
    "collapsed": true
   },
   "outputs": [],
   "source": [
    "train_tag=tagged_document(x_data_stemmed_train,title_train,pos_filter)\n",
    "test_tag = tagged_document(x_data_stemmed_test,title_test,pos_filter)"
   ]
  },
  {
   "cell_type": "markdown",
   "metadata": {},
   "source": [
    "### ## Doc2Vec Vectorize"
   ]
  },
  {
   "cell_type": "code",
   "execution_count": 86,
   "metadata": {
    "collapsed": true
   },
   "outputs": [],
   "source": [
    "def doc2vec(traintag,testtag):\n",
    "\n",
    "    data = traintag\n",
    "    model = Doc2Vec(min_count=1, window=10, size=300, sample=1e-3,alpha=0.025, negative=7, workers=4)\n",
    "    print (\"Building Vocabulary\")\n",
    "    model.build_vocab(data)\n",
    "\n",
    "    for epoch in range(11):\n",
    "        if epoch%5==0: \n",
    "            print (\"Training epoch %s\" % epoch)\n",
    "        model.train(data, total_examples=model.corpus_count , epochs=model.iter)\n",
    "        model.alpha -= 0.002  # decrease the learning rate\n",
    "        model.min_alpha = model.alpha  # fix the learning rate, no decay\n",
    "        model.train(data, total_examples=model.corpus_count, epochs=model.iter)\n",
    "\n",
    "        \n",
    "    model.save(\"model.Doc2Vec\")\n",
    "    x_data = []\n",
    "    for doc_id in range(len(traintag)):\n",
    "        inferred_vector = model.docvecs[doc_id]\n",
    "        x_data.append(inferred_vector)\n",
    "\n",
    "    x_test = []\n",
    "    for doc_id in range(len(testtag)):\n",
    "        inferred_vector = model.infer_vector(testtag[doc_id].words)\n",
    "        x_test.append(inferred_vector)\n",
    "\n",
    "    \n",
    "    \n",
    "    return np.array(x_data), np.array(x_test)\n"
   ]
  },
  {
   "cell_type": "code",
   "execution_count": 87,
   "metadata": {},
   "outputs": [
    {
     "name": "stdout",
     "output_type": "stream",
     "text": [
      "Building Vocabulary\n",
      "Training epoch 0\n",
      "Training epoch 5\n",
      "Training epoch 10\n",
      "Doc2Vec took 3856.86718082428 Seconds\n"
     ]
    }
   ],
   "source": [
    "t = time.time()\n",
    "x_emb_train,x_emb_test = doc2vec(train_tag,test_tag)\n",
    "\n",
    "print('Doc2Vec took', time.time()-t , 'Seconds' )"
   ]
  },
  {
   "cell_type": "code",
   "execution_count": 88,
   "metadata": {},
   "outputs": [
    {
     "name": "stdout",
     "output_type": "stream",
     "text": [
      "x_data_train:  (210793, 300)\n",
      "x_data_test:  (90341, 300)\n",
      "y_data_train:  (210793, 28)\n",
      "y_data_test:  (90341, 28)\n"
     ]
    }
   ],
   "source": [
    "x_data_train = pd.DataFrame(x_emb_train)\n",
    "y_data_train = pd.DataFrame(genre_train)\n",
    "x_data_test = pd.DataFrame(x_emb_test)\n",
    "y_data_test = pd.DataFrame(genre_test)\n",
    "\n",
    "print('x_data_train: ',x_data_train.shape)\n",
    "print('x_data_test: ',x_data_test.shape)\n",
    "print('y_data_train: ',y_data_train.shape)\n",
    "print('y_data_test: ',y_data_test.shape)\n",
    "\n",
    "## save for later .....\n",
    "x_data_train.to_csv(save_path+'doc2vec/x_data_train_doc2vec.csv', index=False)\n",
    "y_data_train.to_csv(save_path+'doc2vec/y_data_train_doc2vec.csv',index=False)\n",
    "x_data_test.to_csv(save_path+'doc2vec/x_data_test_doc2vec.csv', index=False)\n",
    "y_data_test.to_csv(save_path+'doc2vec/y_data_test_doc2vec.csv',index=False)"
   ]
  },
  {
   "cell_type": "markdown",
   "metadata": {},
   "source": [
    "## Bag Of Words and TF-IDF"
   ]
  },
  {
   "cell_type": "markdown",
   "metadata": {},
   "source": [
    "#### decrease data size"
   ]
  },
  {
   "cell_type": "code",
   "execution_count": 89,
   "metadata": {
    "collapsed": true
   },
   "outputs": [],
   "source": [
    "dec_train_tag = train_tag[0:20000]\n",
    "dec_test_tag = test_tag[0:8000]\n",
    "\n"
   ]
  },
  {
   "cell_type": "markdown",
   "metadata": {},
   "source": [
    "#### To run this section we have to first run section --Tokenize for Doc2Vec and bag of words--"
   ]
  },
  {
   "cell_type": "code",
   "execution_count": 90,
   "metadata": {
    "collapsed": true
   },
   "outputs": [],
   "source": [
    "def to_sentence(TaggedDocuments):\n",
    "    doc = TaggedDocuments[0]\n",
    "    doc = \"\".join([\" \"+i if not i.startswith(\"'\") and i not in string.punctuation else i for i in doc]).strip()\n",
    "    return doc"
   ]
  },
  {
   "cell_type": "code",
   "execution_count": 91,
   "metadata": {
    "collapsed": true
   },
   "outputs": [],
   "source": [
    "vectorizer = CountVectorizer()"
   ]
  },
  {
   "cell_type": "code",
   "execution_count": 92,
   "metadata": {},
   "outputs": [
    {
     "name": "stdout",
     "output_type": "stream",
     "text": [
      "Bag of words took  3.093120813369751  Seconds\n"
     ]
    }
   ],
   "source": [
    "t = time.time()\n",
    "X = []\n",
    "for i in range(len(dec_train_tag)):\n",
    "    X.append(to_sentence(dec_train_tag[i]))\n",
    "x_train = vectorizer.fit_transform(X).toarray()\n",
    "\n",
    "print('Bag of words took ', time.time()-t , ' Seconds' )"
   ]
  },
  {
   "cell_type": "code",
   "execution_count": 93,
   "metadata": {
    "collapsed": true
   },
   "outputs": [],
   "source": [
    "X = []\n",
    "for i in range(len(dec_test_tag)):\n",
    "    X.append(to_sentence(dec_test_tag[i]))\n",
    "x_test = vectorizer.transform(X).toarray() "
   ]
  },
  {
   "cell_type": "code",
   "execution_count": 94,
   "metadata": {},
   "outputs": [
    {
     "name": "stdout",
     "output_type": "stream",
     "text": [
      "x train:  (20000, 51053)\n",
      "y train:  (20000, 28)\n",
      "x test:  (8000, 51053)\n",
      "y test:  (8000, 28)\n"
     ]
    }
   ],
   "source": [
    "x_data_train = pd.DataFrame(x_train)\n",
    "y_data_train = pd.DataFrame(genre_train[0:20000])\n",
    "x_data_test = pd.DataFrame(x_test)\n",
    "y_data_test = pd.DataFrame(genre_test[0:8000])\n",
    "\n",
    "print('x train: ',x_data_train.shape)\n",
    "print('y train: ',y_data_train.shape)\n",
    "print('x test: ',x_data_test.shape)\n",
    "print('y test: ',y_data_test.shape)\n",
    "\n",
    "## save .....\n",
    "x_data_train.to_csv(save_path+'bagofword/x_data_train_bagofwords.csv', index=False)\n",
    "y_data_train.to_csv(save_path+'bagofword/y_data_train_bagofwords.csv',index=False)\n",
    "x_data_test.to_csv(save_path+'bagofword/x_data_test_bagofwords.csv', index=False)\n",
    "y_data_test.to_csv(save_path+'bagofword/y_data_test_bagofwords.csv',index=False)"
   ]
  },
  {
   "cell_type": "markdown",
   "metadata": {},
   "source": [
    "## TF_IDF"
   ]
  },
  {
   "cell_type": "code",
   "execution_count": 95,
   "metadata": {
    "collapsed": true
   },
   "outputs": [],
   "source": [
    "vectorizer = TfidfVectorizer()"
   ]
  },
  {
   "cell_type": "code",
   "execution_count": 96,
   "metadata": {},
   "outputs": [
    {
     "name": "stdout",
     "output_type": "stream",
     "text": [
      "TF-IDF took 4.847495079040527 Seconds\n"
     ]
    }
   ],
   "source": [
    "t = time.time()\n",
    "\n",
    "X = []\n",
    "for i in range(len(dec_train_tag)):\n",
    "    X.append(to_sentence(dec_train_tag[i]))\n",
    "x_train = vectorizer.fit_transform(X).toarray()\n",
    "\n",
    "print('TF-IDF took', time.time()-t , 'Seconds' )"
   ]
  },
  {
   "cell_type": "code",
   "execution_count": 97,
   "metadata": {
    "collapsed": true
   },
   "outputs": [],
   "source": [
    "X = []\n",
    "for i in range(len(dec_test_tag)):\n",
    "    X.append(to_sentence(dec_test_tag[i]))\n",
    "x_test = vectorizer.transform(X).toarray() "
   ]
  },
  {
   "cell_type": "code",
   "execution_count": 98,
   "metadata": {},
   "outputs": [
    {
     "name": "stdout",
     "output_type": "stream",
     "text": [
      "x train:  (20000, 51053)\n",
      "y train:  (20000, 28)\n",
      "x test:  (8000, 51053)\n",
      "y test:  (8000, 28)\n"
     ]
    }
   ],
   "source": [
    "x_data_train = pd.DataFrame(x_train)\n",
    "y_data_train = pd.DataFrame(genre_train[0:20000])\n",
    "x_data_test = pd.DataFrame(x_test)\n",
    "y_data_test = pd.DataFrame(genre_test[0:8000])\n",
    "\n",
    "print('x train: ',x_data_train.shape)\n",
    "print('y train: ',y_data_train.shape)\n",
    "print('x test: ',x_data_test.shape)\n",
    "print('y test: ',y_data_test.shape)\n",
    "\n",
    "## save .....\n",
    "x_data_train.to_csv(save_path+'tfidf/x_data_train_tfidf.csv', index=False)\n",
    "y_data_train.to_csv(save_path+'tfidf/y_data_train_tfidf.csv',index=False)\n",
    "x_data_test.to_csv(save_path+'tfidf/x_data_test_tfidf.csv', index=False)\n",
    "y_data_test.to_csv(save_path+'tfidf/y_data_test_tfidf.csv',index=False)"
   ]
  },
  {
   "cell_type": "code",
   "execution_count": null,
   "metadata": {
    "collapsed": true
   },
   "outputs": [],
   "source": []
  },
  {
   "cell_type": "code",
   "execution_count": null,
   "metadata": {
    "collapsed": true
   },
   "outputs": [],
   "source": []
  }
 ],
 "metadata": {
  "kernelspec": {
   "display_name": "Python 3",
   "language": "python",
   "name": "python3"
  },
  "language_info": {
   "codemirror_mode": {
    "name": "ipython",
    "version": 3
   },
   "file_extension": ".py",
   "mimetype": "text/x-python",
   "name": "python",
   "nbconvert_exporter": "python",
   "pygments_lexer": "ipython3",
   "version": "3.6.3"
  }
 },
 "nbformat": 4,
 "nbformat_minor": 2
}
